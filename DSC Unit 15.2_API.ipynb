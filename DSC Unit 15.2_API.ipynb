{
 "cells": [
  {
   "cell_type": "code",
   "execution_count": 1,
   "id": "f2e46d94",
   "metadata": {},
   "outputs": [],
   "source": [
    "# Get api key from your .env file\n",
    "import os\n",
    "from dotenv import load_dotenv\n",
    "\n",
    "load_dotenv()\n",
    "API_KEY = os.getenv('NASDAQ_API_KEY')"
   ]
  },
  {
   "cell_type": "code",
   "execution_count": 2,
   "id": "5b7f2afb",
   "metadata": {},
   "outputs": [],
   "source": [
    "# Import the relevant modules \n",
    "import requests"
   ]
  },
  {
   "cell_type": "code",
   "execution_count": 3,
   "id": "c12ea669",
   "metadata": {},
   "outputs": [
    {
     "name": "stdout",
     "output_type": "stream",
     "text": [
      "{'dataset': {'id': 10095370, 'dataset_code': 'AFX_X', 'database_code': 'FSE', 'name': 'Carl Zeiss Meditec (AFX_X)', 'description': 'Stock Prices for Carl Zeiss Meditec (2020-11-02) from the Frankfurt Stock Exchange.<br><br>Trading System: Xetra<br><br>ISIN: DE0005313704', 'refreshed_at': '2020-12-01T14:48:09.907Z', 'newest_available_date': '2020-12-01', 'oldest_available_date': '2000-06-07', 'column_names': ['Date', 'Open', 'High', 'Low', 'Close', 'Change', 'Traded Volume', 'Turnover', 'Last Price of the Day', 'Daily Traded Units', 'Daily Turnover'], 'frequency': 'daily', 'type': 'Time Series', 'premium': False, 'limit': None, 'transform': None, 'column_index': None, 'start_date': '2017-11-30', 'end_date': '2017-12-02', 'data': [['2017-12-01', 49.52, 50.49, 49.17, 49.86, None, 101733.0, 5065932.0, None, None, None], ['2017-11-30', 48.64, 49.84, 48.28, 49.7, None, 123019.0, 6085171.0, None, None, None]], 'collapse': None, 'order': None, 'database_id': 6129}}\n"
     ]
    }
   ],
   "source": [
    "# Now, call the Nasdaq API and pull out a small sample of the data (only one day) to get a glimpse\n",
    "# into the JSON structure that will be returned\n",
    "\n",
    "url = f'https://data.nasdaq.com/api/v3/datasets/FSE/AFX_X?start_date=2017-11-30&end_date=2017-12-02\\\n",
    "       &api_key={API_KEY}'\n",
    "res = requests.get(url)\n",
    "json_data = res.json()\n",
    "print(json_data)"
   ]
  },
  {
   "cell_type": "code",
   "execution_count": 4,
   "id": "a207f150",
   "metadata": {
    "scrolled": true
   },
   "outputs": [
    {
     "name": "stdout",
     "output_type": "stream",
     "text": [
      "id:  10095370\n",
      "dataset_code:  AFX_X\n",
      "database_code:  FSE\n",
      "name:  Carl Zeiss Meditec (AFX_X)\n",
      "description:  Stock Prices for Carl Zeiss Meditec (2020-11-02) from the Frankfurt Stock Exchange.<br><br>Trading System: Xetra<br><br>ISIN: DE0005313704\n",
      "refreshed_at:  2020-12-01T14:48:09.907Z\n",
      "newest_available_date:  2020-12-01\n",
      "oldest_available_date:  2000-06-07\n",
      "column_names:  ['Date', 'Open', 'High', 'Low', 'Close', 'Change', 'Traded Volume', 'Turnover', 'Last Price of the Day', 'Daily Traded Units', 'Daily Turnover']\n",
      "frequency:  daily\n",
      "type:  Time Series\n",
      "premium:  False\n",
      "limit:  None\n",
      "transform:  None\n",
      "column_index:  None\n",
      "start_date:  2017-11-30\n",
      "end_date:  2017-12-02\n",
      "data:  [['2017-12-01', 49.52, 50.49, 49.17, 49.86, None, 101733.0, 5065932.0, None, None, None], ['2017-11-30', 48.64, 49.84, 48.28, 49.7, None, 123019.0, 6085171.0, None, None, None]]\n",
      "collapse:  None\n",
      "order:  None\n",
      "database_id:  6129\n"
     ]
    }
   ],
   "source": [
    "# Another glimpse of the JSON structure (json_data)\n",
    "\n",
    "for k in json_data['dataset'].keys():\n",
    "    print(k + \": \", json_data['dataset'][k])"
   ]
  },
  {
   "cell_type": "code",
   "execution_count": 5,
   "id": "f817bfde",
   "metadata": {},
   "outputs": [],
   "source": [
    "# Task 1. Collect data from the Franfurt Stock Exchange, for the ticker AFX_X, for the \n",
    "# whole year 2017 (keep in mind that the date format is YYYY-MM-DD).\n",
    "\n",
    "url =f'https://data.nasdaq.com/api/v3/datasets/FSE/AFX_X?start_date=2017-01-01&end_date=2017-12-31\\\n",
    "       &api_key={API_KEY}'\n",
    "res = requests.get(url)\n",
    "json_data_2017 = res.json()"
   ]
  },
  {
   "cell_type": "code",
   "execution_count": 6,
   "id": "1b424fe4",
   "metadata": {},
   "outputs": [
    {
     "data": {
      "text/plain": [
       "dict"
      ]
     },
     "execution_count": 6,
     "metadata": {},
     "output_type": "execute_result"
    }
   ],
   "source": [
    "# Task 2. Convert the returned JSON object into a Python dictionary.\n",
    "\n",
    "json_data_2017_dict = dict(json_data_2017)\n",
    "type(json_data_2017_dict)"
   ]
  },
  {
   "cell_type": "code",
   "execution_count": 7,
   "id": "bb62b944",
   "metadata": {},
   "outputs": [
    {
     "name": "stdout",
     "output_type": "stream",
     "text": [
      "The highest opening price for the stock in 2017 was: 53.11\n",
      "The lowest opening price for the stock in 2017 was: 34.0\n"
     ]
    }
   ],
   "source": [
    "# Task 3. Calculate what the highest and lowest opening prices were for the stock in this period.\n",
    "\n",
    "open_price_daily_2017 = []\n",
    "\n",
    "for k in range(0, len(json_data_2017_dict['dataset']['data'])):\n",
    "    if json_data_2017_dict['dataset']['data'][k][1] != None:\n",
    "        open_price_daily_2017.append(json_data_2017_dict['dataset']['data'][k][1])\n",
    "    \n",
    "highest_open_price_2017 = max(open_price_daily_2017)\n",
    "lowest_open_price_2017 = min(open_price_daily_2017)\n",
    "\n",
    "print(\"The highest opening price for the stock in 2017 was:\", highest_open_price_2017)\n",
    "print(\"The lowest opening price for the stock in 2017 was:\", lowest_open_price_2017)"
   ]
  },
  {
   "cell_type": "code",
   "execution_count": 8,
   "id": "8b1d9c71",
   "metadata": {},
   "outputs": [
    {
     "name": "stdout",
     "output_type": "stream",
     "text": [
      "The largest change in any one day (based on High and low price) in 2017 was: 2.81\n"
     ]
    }
   ],
   "source": [
    "# Task 4. What was the largest change in any one day (based on High and Low price)?\n",
    "\n",
    "change_price_daily_2017 = []\n",
    "\n",
    "for k in range(0, len(json_data_2017_dict['dataset']['data'])):\n",
    "    change_price_daily = json_data_2017_dict['dataset']['data'][k][2] - json_data_2017_dict['dataset']['data'][k][3]\n",
    "    # Round the change price value to two decimal points before appending to change_price_daily_2017 \n",
    "    change_price_daily_2017.append(round(change_price_daily, 2))\n",
    "\n",
    "largest_change_price_2017 = max(change_price_daily_2017)\n",
    "print(\"The largest change in any one day (based on High and low price) in 2017 was:\", largest_change_price_2017)"
   ]
  },
  {
   "cell_type": "code",
   "execution_count": 9,
   "id": "8056561e",
   "metadata": {},
   "outputs": [
    {
     "name": "stdout",
     "output_type": "stream",
     "text": [
      "The largest change (based on Closing price) between any two days in 2017 was: 19.03\n"
     ]
    }
   ],
   "source": [
    "# Task 5. What was the largest change between any two days (based on Closing Price)?\n",
    "\n",
    "close_price_daily_2017 = []\n",
    "\n",
    "for k in range(0, len(json_data_2017_dict['dataset']['data'])):\n",
    "    close_price_daily_2017.append(json_data_2017_dict['dataset']['data'][k][4])\n",
    "    \n",
    "highest_close_price_2017 = max(close_price_daily_2017)\n",
    "lowest_close_price_2017 = min(close_price_daily_2017)\n",
    "\n",
    "largest_change_close_price_2017 = highest_close_price_2017 - lowest_close_price_2017\n",
    "\n",
    "print(\"The largest change (based on Closing price) between any two days in 2017 was:\", largest_change_close_price_2017)"
   ]
  },
  {
   "cell_type": "code",
   "execution_count": 10,
   "id": "4f5f881c",
   "metadata": {},
   "outputs": [
    {
     "name": "stdout",
     "output_type": "stream",
     "text": [
      "The average daily trading volume in 2017 was: 89124\n"
     ]
    }
   ],
   "source": [
    "# Task 6. What was the average daily trading volume during this year?\n",
    "\n",
    "daily_trading_volume_2017 = []\n",
    "\n",
    "for k in range(0, len(json_data_2017_dict['dataset']['data'])):\n",
    "    daily_trading_volume_2017.append(json_data_2017_dict['dataset']['data'][k][6])\n",
    "     \n",
    "average_daily_trading_volume_2017 = int(sum(daily_trading_volume_2017)/len(daily_trading_volume_2017))\n",
    "\n",
    "print(\"The average daily trading volume in 2017 was:\", average_daily_trading_volume_2017)"
   ]
  }
 ],
 "metadata": {
  "kernelspec": {
   "display_name": "Python 3 (ipykernel)",
   "language": "python",
   "name": "python3"
  },
  "language_info": {
   "codemirror_mode": {
    "name": "ipython",
    "version": 3
   },
   "file_extension": ".py",
   "mimetype": "text/x-python",
   "name": "python",
   "nbconvert_exporter": "python",
   "pygments_lexer": "ipython3",
   "version": "3.10.9"
  }
 },
 "nbformat": 4,
 "nbformat_minor": 5
}
